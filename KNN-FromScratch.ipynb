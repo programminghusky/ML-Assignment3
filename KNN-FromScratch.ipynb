{
 "cells": [
  {
   "cell_type": "code",
   "execution_count": 17,
   "metadata": {},
   "outputs": [],
   "source": [
    "#import libraries\n",
    "import sys\n",
    "from os.path import dirname, join as pjoin\n",
    "import random\n",
    "import numpy as np\n",
    "import matplotlib.pyplot as plt\n",
    "import scipy.io as sio\n",
    "import scipy.linalg as la\n",
    "np.set_printoptions(threshold=1000)\n",
    "from sklearn.model_selection import train_test_split\n",
    "from sklearn.tree import DecisionTreeClassifier\n",
    "from sklearn import tree\n",
    "from sklearn.metrics import accuracy_score\n",
    "from sklearn.metrics import precision_score\n",
    "from sklearn.metrics import recall_score\n",
    "from sklearn.metrics import confusion_matrix\n",
    "from sklearn.metrics import multilabel_confusion_matrix\n",
    "from sklearn.neighbors import KNeighborsClassifier\n",
    "from sklearn.svm import SVC\n",
    "from collections import Counter\n",
    "import time"
   ]
  },
  {
   "cell_type": "code",
   "execution_count": 18,
   "metadata": {},
   "outputs": [
    {
     "data": {
      "text/plain": [
       "(9298, 256)"
      ]
     },
     "execution_count": 18,
     "metadata": {},
     "output_type": "execute_result"
    }
   ],
   "source": [
    "#load usps data into arr\n",
    "usps_data_dir= \"usps_all.mat\"\n",
    "usps_data = sio.loadmat(usps_data_dir)\n",
    "arr = usps_data['fea']\n",
    "labels = usps_data['gnd']\n",
    "arr.shape"
   ]
  },
  {
   "cell_type": "code",
   "execution_count": 19,
   "metadata": {},
   "outputs": [],
   "source": [
    "# Split-out dataset into training and validation\n",
    "X = arr[:,0:255]\n",
    "y = labels[:,0]\n",
    "X_train, X_validation, Y_train, Y_validation = train_test_split(X, y, test_size=2007, random_state=1)"
   ]
  },
  {
   "cell_type": "code",
   "execution_count": 20,
   "metadata": {},
   "outputs": [],
   "source": [
    "def euclidean_distance(x1, x2):\n",
    "        return np.sqrt(np.sum((x1 - x2)**2))"
   ]
  },
  {
   "cell_type": "code",
   "execution_count": 21,
   "metadata": {},
   "outputs": [],
   "source": [
    "class KNN:\n",
    "\n",
    "    def __init__(self, k=3):\n",
    "        self.k = k\n",
    "\n",
    "    def fit(self, X, y):\n",
    "        self.X_train = X\n",
    "        self.y_train = y\n",
    "\n",
    "    def predict(self, X):\n",
    "        y_pred = [self._predict(x) for x in X]\n",
    "        return np.array(y_pred)\n",
    "\n",
    "    def _predict(self, x):\n",
    "        # Compute distances between x and all examples in the training set\n",
    "        distances = [euclidean_distance(x, x_train) for x_train in self.X_train]\n",
    "        # Sort by distance and return indices of the first k neighbors\n",
    "        k_idx = np.argsort(distances)[:self.k]\n",
    "        # Extract the labels of the k nearest neighbor training samples\n",
    "        k_neighbor_labels = [self.y_train[i] for i in k_idx]  \n",
    "        # return the most common class label\n",
    "        most_common = Counter(k_neighbor_labels).most_common(1)\n",
    "        return most_common[0][0]"
   ]
  },
  {
   "cell_type": "code",
   "execution_count": 28,
   "metadata": {},
   "outputs": [],
   "source": [
    "#Train the test data using K-nearest neighbor\n",
    "neigh = KNN(k=3)\n",
    "neigh.fit(X_train,Y_train)"
   ]
  },
  {
   "cell_type": "code",
   "execution_count": 23,
   "metadata": {},
   "outputs": [],
   "source": [
    "y_pred =  neigh.predict(X_validation)"
   ]
  },
  {
   "cell_type": "code",
   "execution_count": 27,
   "metadata": {},
   "outputs": [
    {
     "name": "stdout",
     "output_type": "stream",
     "text": [
      "0.9750871948181365\n"
     ]
    }
   ],
   "source": [
    "acc = np.sum(y_pred == Y_validation)/len(Y_validation)\n",
    "print(acc)"
   ]
  },
  {
   "cell_type": "code",
   "execution_count": 26,
   "metadata": {},
   "outputs": [
    {
     "name": "stdout",
     "output_type": "stream",
     "text": [
      "Confusion Matrix: \n",
      " [[335   0   0   2   0   0   0   0   0   1]\n",
      " [  0 273   0   0   1   0   1   0   0   0]\n",
      " [  2   0 198   0   0   0   1   1   0   0]\n",
      " [  0   0   1 183   0   5   0   0   1   1]\n",
      " [  1   0   1   0 160   0   1   1   0   7]\n",
      " [  1   0   1   0   1 162   0   0   2   1]\n",
      " [  1   0   1   0   0   0 154   0   0   0]\n",
      " [  0   2   0   0   1   0   0 176   2   2]\n",
      " [  0   1   0   1   0   2   0   1 150   1]\n",
      " [  0   0   0   0   1   0   0   0   0 166]]\n",
      "\n",
      "Accuracy Score on the Test Data:  0.9750871948181365\n",
      "\n",
      "Precision Score on the Test Data:  0.9731931358096707\n",
      "\n",
      "Recall Score on the Test Data:  0.9726601523681587\n"
     ]
    }
   ],
   "source": [
    "#Evaluate Predictions using Accuracy Score and Confusion Matrix\n",
    "print('Confusion Matrix: \\n', confusion_matrix(Y_validation, y_pred))\n",
    "print('\\nAccuracy Score on the Test Data: ',accuracy_score(Y_validation, y_pred))\n",
    "print('\\nPrecision Score on the Test Data: ',precision_score(Y_validation, y_pred, average='macro'))\n",
    "print('\\nRecall Score on the Test Data: ',recall_score(Y_validation, y_pred, average='macro'))"
   ]
  }
 ],
 "metadata": {
  "kernelspec": {
   "display_name": "Python 3",
   "language": "python",
   "name": "python3"
  },
  "language_info": {
   "codemirror_mode": {
    "name": "ipython",
    "version": 3
   },
   "file_extension": ".py",
   "mimetype": "text/x-python",
   "name": "python",
   "nbconvert_exporter": "python",
   "pygments_lexer": "ipython3",
   "version": "3.8.5"
  }
 },
 "nbformat": 4,
 "nbformat_minor": 4
}
