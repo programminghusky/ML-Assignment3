{
 "cells": [
  {
   "cell_type": "code",
   "execution_count": 395,
   "metadata": {},
   "outputs": [],
   "source": [
    "#import libraries\n",
    "import sys\n",
    "from os.path import dirname, join as pjoin\n",
    "import random\n",
    "import numpy as np\n",
    "import matplotlib.pyplot as plt\n",
    "import scipy.io as sio\n",
    "import scipy.linalg as la\n",
    "np.set_printoptions(threshold=1000)\n",
    "from sklearn.model_selection import train_test_split\n",
    "from sklearn.tree import DecisionTreeClassifier\n",
    "from sklearn import tree\n",
    "from sklearn.metrics import accuracy_score\n",
    "from sklearn.metrics import precision_score\n",
    "from sklearn.metrics import recall_score\n",
    "from sklearn.metrics import confusion_matrix\n",
    "from sklearn.metrics import multilabel_confusion_matrix\n",
    "from sklearn.neighbors import KNeighborsClassifier\n",
    "from sklearn.svm import SVC\n",
    "from collections import Counter\n",
    "import time"
   ]
  },
  {
   "cell_type": "code",
   "execution_count": 428,
   "metadata": {},
   "outputs": [],
   "source": [
    "# Displays the results of the prediction\n",
    "def display_prediction_results(Y_validation, y_pred):\n",
    "    #Evaluate Predictions using Accuracy Score and Confusion Matrix\n",
    "    print('Confusion Matrix: \\n', confusion_matrix(Y_validation, y_pred))\n",
    "    print('\\nConfusion matrix for each of the digits from 0 to 9 printed below in order')\n",
    "    #displays the confusion matrix for each of the digits\n",
    "    print(multilabel_confusion_matrix(Y_validation, y_pred))\n",
    "    print('\\nAccuracy for each of the digits from 0 to 9 printed below ')\n",
    "    #the confusion matrix obtained for each of the digits can be used to calculate the accuracy for each digit\n",
    "    mcm = multilabel_confusion_matrix(Y_validation, y_pred)\n",
    "    worst_digit =-1\n",
    "    worst_accuracy = -1\n",
    "    for i in range(0,10):\n",
    "        # each of the digits accuracy can be calculated from their respective matrix using the formula\n",
    "        #((True positive + True negative) / All))\n",
    "        digit_accuracy = (mcm[i][0][0] +mcm[i][1][1])/(mcm[i][0][0]+ mcm[i][0][1]+mcm[i][1][0] +mcm[i][1][1])\n",
    "        if worst_accuracy ==-1 or digit_accuracy< worst_accuracy:\n",
    "            worst_digit=i\n",
    "            worst_accuracy = digit_accuracy\n",
    "        print('Accuracy for digit '  , i , ': ' , digit_accuracy)\n",
    "    \n",
    "    print('\\nDigit with worst accuracy is', worst_digit, '. It has an accuracy score of: ', worst_accuracy)\n",
    "\n",
    "    print('\\nAccuracy Score on the entire Test Data: ',accuracy_score(Y_validation, y_pred))\n",
    "    print('\\nPrecision Score on the entire Test Data: ',precision_score(Y_validation, y_pred, average='macro'))\n",
    "    print('\\nRecall Score on the entire Test Data: ',recall_score(Y_validation, y_pred, average='macro'))"
   ]
  },
  {
   "cell_type": "code",
   "execution_count": 442,
   "metadata": {},
   "outputs": [],
   "source": [
    "#Displays the decision tree which has been created\n",
    "def display_tree(classifier):\n",
    "    #displaying the tree structure\n",
    "    plt.figure(figsize=(24,10))\n",
    "    tree.plot_tree(clf, fontsize=12)\n",
    "    plt.show()\n",
    "    print('\\n')\n",
    "    #Text representation of the tree to show the entire tree structure\n",
    "    text_representation = tree.export_text(clf)\n",
    "    print(text_representation)"
   ]
  },
  {
   "cell_type": "code",
   "execution_count": 457,
   "metadata": {},
   "outputs": [],
   "source": [
    "#trains the model and returns the time taken to train the model\n",
    "def train_model(classifier, X_train, Y_train):\n",
    "    #start the timer\n",
    "    start = time.perf_counter()\n",
    "    #Train the test data using Decision tree\n",
    "    classifier.fit(X_train,Y_train)\n",
    "    #stop the timer\n",
    "    stop = time.perf_counter()\n",
    "    t = stop - start\n",
    "    return t"
   ]
  },
  {
   "cell_type": "code",
   "execution_count": 446,
   "metadata": {},
   "outputs": [],
   "source": [
    "#makes predictions on the test data and also returns the time taken for predictions\n",
    "def predict(classifier, X_validation):\n",
    "    #start the timer\n",
    "    start = time.perf_counter()\n",
    "    #Predicting the test set\n",
    "    y_pred =  classifier.predict(X_validation)\n",
    "    #stop the timer\n",
    "    stop = time.perf_counter()\n",
    "    t = stop - start\n",
    "    return y_pred,t"
   ]
  },
  {
   "cell_type": "code",
   "execution_count": 396,
   "metadata": {},
   "outputs": [
    {
     "data": {
      "text/plain": [
       "(9298, 256)"
      ]
     },
     "execution_count": 396,
     "metadata": {},
     "output_type": "execute_result"
    }
   ],
   "source": [
    "#load usps data into arr\n",
    "usps_data_dir= \"usps_all.mat\"\n",
    "usps_data = sio.loadmat(usps_data_dir)\n",
    "arr = usps_data['fea']\n",
    "labels = usps_data['gnd']\n",
    "arr.shape"
   ]
  },
  {
   "cell_type": "code",
   "execution_count": 397,
   "metadata": {},
   "outputs": [],
   "source": [
    "# Split-out dataset into training and validation\n",
    "X = arr[:,0:255]\n",
    "y = labels[:,0]\n",
    "X_train, X_validation, Y_train, Y_validation = train_test_split(X, y, test_size=2007, random_state=1)"
   ]
  },
  {
   "cell_type": "code",
   "execution_count": 459,
   "metadata": {},
   "outputs": [
    {
     "name": "stdout",
     "output_type": "stream",
     "text": [
      "Time taken for training is 5.4490 seconds\n"
     ]
    }
   ],
   "source": [
    "#Train the decision tree model\n",
    "clf = tree.DecisionTreeClassifier(criterion='entropy', max_depth=4,max_features=255)\n",
    "t1 = train_model(clf, X_train, Y_train)\n",
    "print(f\"Time taken for training is {t1:0.4f} seconds\")"
   ]
  },
  {
   "cell_type": "code",
   "execution_count": 460,
   "metadata": {},
   "outputs": [
    {
     "name": "stdout",
     "output_type": "stream",
     "text": [
      "Time taken for prediction is 0.0038 seconds\n"
     ]
    }
   ],
   "source": [
    "#Predicting labels on the test set for the decision tree\n",
    "y_pred, t2 = predict(clf, X_validation)\n",
    "print(f\"Time taken for prediction is {t2:0.4f} seconds\")"
   ]
  },
  {
   "cell_type": "code",
   "execution_count": 461,
   "metadata": {
    "scrolled": true
   },
   "outputs": [
    {
     "name": "stdout",
     "output_type": "stream",
     "text": [
      "Confusion Matrix: \n",
      " [[290   0   1  15   1   5   6   0  19   1]\n",
      " [  0 262   0   0   1   0   4   3   1   4]\n",
      " [  8   0 145   9   6   4   7   0  23   0]\n",
      " [  9   0   4 144   1  16   0   0  13   4]\n",
      " [  1   2   6   0 131   1   3   2   8  17]\n",
      " [  9   1  15  15   2 107   9   0   9   1]\n",
      " [  3   0   8   1   0   3 132   0   9   0]\n",
      " [  2   0  14   0   9   0   1 143   2  12]\n",
      " [  0   0   6  26   7   3   2   1  76  35]\n",
      " [  0   2   1   1  10   0   0   5   1 147]]\n",
      "\n",
      "Confusion matrix for each of the digits from 0 to 9 printed below in order\n",
      "[[[1637   32]\n",
      "  [  48  290]]\n",
      "\n",
      " [[1727    5]\n",
      "  [  13  262]]\n",
      "\n",
      " [[1750   55]\n",
      "  [  57  145]]\n",
      "\n",
      " [[1749   67]\n",
      "  [  47  144]]\n",
      "\n",
      " [[1799   37]\n",
      "  [  40  131]]\n",
      "\n",
      " [[1807   32]\n",
      "  [  61  107]]\n",
      "\n",
      " [[1819   32]\n",
      "  [  24  132]]\n",
      "\n",
      " [[1813   11]\n",
      "  [  40  143]]\n",
      "\n",
      " [[1766   85]\n",
      "  [  80   76]]\n",
      "\n",
      " [[1766   74]\n",
      "  [  20  147]]]\n",
      "\n",
      "Accuracy for each of the digits from 0 to 9 printed below \n",
      "Accuracy for digit  0 :  0.9601395117090185\n",
      "Accuracy for digit  1 :  0.9910313901345291\n",
      "Accuracy for digit  2 :  0.9441953163926258\n",
      "Accuracy for digit  3 :  0.9431988041853513\n",
      "Accuracy for digit  4 :  0.9616342800199302\n",
      "Accuracy for digit  5 :  0.953662182361734\n",
      "Accuracy for digit  6 :  0.9720976581963129\n",
      "Accuracy for digit  7 :  0.9745889387144993\n",
      "Accuracy for digit  8 :  0.9177877428998505\n",
      "Accuracy for digit  9 :  0.9531639262580966\n",
      "\n",
      "Digit with worst accuracy is 8 . It has an accuracy score of:  0.9177877428998505\n",
      "\n",
      "Accuracy Score on the entire Test Data:  0.7857498754359741\n",
      "\n",
      "Precision Score on the entire Test Data:  0.7709562596485836\n",
      "\n",
      "Recall Score on the entire Test Data:  0.7680444174725175\n"
     ]
    }
   ],
   "source": [
    "#displaying the prediction results for the decision tree\n",
    "display_prediction_results(Y_validation, y_pred)"
   ]
  },
  {
   "cell_type": "code",
   "execution_count": 443,
   "metadata": {},
   "outputs": [
    {
     "data": {
      "image/png": "[encoded data removed]",
      "text/plain": [
       "<Figure size 1728x720 with 1 Axes>"
      ]
     },
     "metadata": {
      "needs_background": "light"
     },
     "output_type": "display_data"
    },
    {
     "name": "stdout",
     "output_type": "stream",
     "text": [
      "\n",
      "\n",
      "|--- feature_211 <= -0.97\n",
      "|   |--- feature_50 <= -1.00\n",
      "|   |   |--- feature_189 <= -1.00\n",
      "|   |   |   |--- feature_55 <= -0.29\n",
      "|   |   |   |   |--- class: 8\n",
      "|   |   |   |--- feature_55 >  -0.29\n",
      "|   |   |   |   |--- class: 2\n",
      "|   |   |--- feature_189 >  -1.00\n",
      "|   |   |   |--- feature_214 <= -0.40\n",
      "|   |   |   |   |--- class: 5\n",
      "|   |   |   |--- feature_214 >  -0.40\n",
      "|   |   |   |   |--- class: 7\n",
      "|   |--- feature_50 >  -1.00\n",
      "|   |   |--- feature_118 <= -0.96\n",
      "|   |   |   |--- feature_165 <= -0.84\n",
      "|   |   |   |   |--- class: 8\n",
      "|   |   |   |--- feature_165 >  -0.84\n",
      "|   |   |   |   |--- class: 5\n",
      "|   |   |--- feature_118 >  -0.96\n",
      "|   |   |   |--- feature_8 <= -0.42\n",
      "|   |   |   |   |--- class: 5\n",
      "|   |   |   |--- feature_8 >  -0.42\n",
      "|   |   |   |   |--- class: 10\n",
      "|--- feature_211 >  -0.97\n",
      "|   |--- feature_167 <= -0.65\n",
      "|   |   |--- feature_120 <= -0.71\n",
      "|   |   |   |--- feature_75 <= -0.94\n",
      "|   |   |   |   |--- class: 7\n",
      "|   |   |   |--- feature_75 >  -0.94\n",
      "|   |   |   |   |--- class: 1\n",
      "|   |   |--- feature_120 >  -0.71\n",
      "|   |   |   |--- feature_75 <= -0.60\n",
      "|   |   |   |   |--- class: 6\n",
      "|   |   |   |--- feature_75 >  -0.60\n",
      "|   |   |   |   |--- class: 4\n",
      "|   |--- feature_167 >  -0.65\n",
      "|   |   |--- feature_90 <= -0.84\n",
      "|   |   |   |--- feature_17 <= -1.00\n",
      "|   |   |   |   |--- class: 7\n",
      "|   |   |   |--- feature_17 >  -1.00\n",
      "|   |   |   |   |--- class: 3\n",
      "|   |   |--- feature_90 >  -0.84\n",
      "|   |   |   |--- feature_101 <= -0.75\n",
      "|   |   |   |   |--- class: 3\n",
      "|   |   |   |--- feature_101 >  -0.75\n",
      "|   |   |   |   |--- class: 9\n",
      "\n"
     ]
    }
   ],
   "source": [
    "#displaying the tree structure\n",
    "display_tree(clf)"
   ]
  },
  {
   "cell_type": "code",
   "execution_count": 477,
   "metadata": {},
   "outputs": [
    {
     "name": "stdout",
     "output_type": "stream",
     "text": [
      "Time taken for training is 1.0110 seconds\n"
     ]
    }
   ],
   "source": [
    "#Train the KNN model - 1st\n",
    "neigh = KNeighborsClassifier(n_neighbors=1, weights='distance')\n",
    "t1 = train_model(neigh, X_train, Y_train)\n",
    "print(f\"Time taken for training is {t1:0.4f} seconds\")"
   ]
  },
  {
   "cell_type": "code",
   "execution_count": 478,
   "metadata": {},
   "outputs": [
    {
     "name": "stdout",
     "output_type": "stream",
     "text": [
      "Time taken for prediction is 9.1781 seconds\n"
     ]
    }
   ],
   "source": [
    "#Predicting labels on the test set for the KNN model - 1st\n",
    "y_pred, t2 = predict(neigh, X_validation)\n",
    "print(f\"Time taken for prediction is {t2:0.4f} seconds\")"
   ]
  },
  {
   "cell_type": "code",
   "execution_count": null,
   "metadata": {},
   "outputs": [],
   "source": [
    "#displaying the prediction results for the KNN - 1st\n",
    "display_prediction_results(Y_validation, y_pred)"
   ]
  },
  {
   "cell_type": "code",
   "execution_count": 479,
   "metadata": {},
   "outputs": [
    {
     "name": "stdout",
     "output_type": "stream",
     "text": [
      "Time taken for training is 0.8194 seconds\n"
     ]
    }
   ],
   "source": [
    "#Train the KNN model - 2nd\n",
    "neigh = KNeighborsClassifier(n_neighbors=3, weights='distance')\n",
    "t1 = train_model(neigh, X_train, Y_train)\n",
    "print(f\"Time taken for training is {t1:0.4f} seconds\")"
   ]
  },
  {
   "cell_type": "code",
   "execution_count": 480,
   "metadata": {},
   "outputs": [
    {
     "name": "stdout",
     "output_type": "stream",
     "text": [
      "Time taken for prediction is 10.1437 seconds\n"
     ]
    }
   ],
   "source": [
    "#Predicting labels on the test set for the KNN model - 2nd\n",
    "y_pred, t2 = predict(neigh, X_validation)\n",
    "print(f\"Time taken for prediction is {t2:0.4f} seconds\")"
   ]
  },
  {
   "cell_type": "code",
   "execution_count": null,
   "metadata": {},
   "outputs": [],
   "source": [
    "#displaying the prediction results for the KNN - 2nd\n",
    "display_prediction_results(Y_validation, y_pred)"
   ]
  },
  {
   "cell_type": "code",
   "execution_count": 487,
   "metadata": {},
   "outputs": [
    {
     "name": "stdout",
     "output_type": "stream",
     "text": [
      "Time taken for training is 0.8367 seconds\n"
     ]
    }
   ],
   "source": [
    "#Train the KNN model - 3rd\n",
    "neigh = KNeighborsClassifier(n_neighbors=5, weights='distance')\n",
    "t1 = train_model(neigh, X_train, Y_train)\n",
    "print(f\"Time taken for training is {t1:0.4f} seconds\")"
   ]
  },
  {
   "cell_type": "code",
   "execution_count": 488,
   "metadata": {},
   "outputs": [
    {
     "name": "stdout",
     "output_type": "stream",
     "text": [
      "Time taken for prediction is 10.4279 seconds\n"
     ]
    }
   ],
   "source": [
    "#Predicting labels on the test set for the KNN model - 3rd\n",
    "y_pred, t2 = predict(neigh, X_validation)\n",
    "print(f\"Time taken for prediction is {t2:0.4f} seconds\")"
   ]
  },
  {
   "cell_type": "code",
   "execution_count": 489,
   "metadata": {},
   "outputs": [
    {
     "name": "stdout",
     "output_type": "stream",
     "text": [
      "Confusion Matrix: \n",
      " [[334   0   1   2   0   0   0   0   0   1]\n",
      " [  0 271   0   0   1   0   1   1   0   1]\n",
      " [  2   0 197   1   0   0   1   1   0   0]\n",
      " [  0   0   0 179   0   7   0   0   3   2]\n",
      " [  0   0   1   0 158   0   2   1   0   9]\n",
      " [  2   0   1   0   0 161   1   0   2   1]\n",
      " [  1   0   1   0   0   0 154   0   0   0]\n",
      " [  0   1   0   0   2   0   0 178   0   2]\n",
      " [  0   1   0   2   0   2   0   1 148   2]\n",
      " [  0   0   0   0   2   0   0   3   0 162]]\n",
      "\n",
      "Confusion matrix for each of the digits from 0 to 9 printed below in order\n",
      "[[[1664    5]\n",
      "  [   4  334]]\n",
      "\n",
      " [[1730    2]\n",
      "  [   4  271]]\n",
      "\n",
      " [[1801    4]\n",
      "  [   5  197]]\n",
      "\n",
      " [[1811    5]\n",
      "  [  12  179]]\n",
      "\n",
      " [[1831    5]\n",
      "  [  13  158]]\n",
      "\n",
      " [[1830    9]\n",
      "  [   7  161]]\n",
      "\n",
      " [[1846    5]\n",
      "  [   2  154]]\n",
      "\n",
      " [[1817    7]\n",
      "  [   5  178]]\n",
      "\n",
      " [[1846    5]\n",
      "  [   8  148]]\n",
      "\n",
      " [[1822   18]\n",
      "  [   5  162]]]\n",
      "\n",
      "Accuracy for each of the digits from 0 to 9 printed below \n",
      "Accuracy for digit  0 :  0.9955156950672646\n",
      "Accuracy for digit  1 :  0.9970104633781763\n",
      "Accuracy for digit  2 :  0.9955156950672646\n",
      "Accuracy for digit  3 :  0.9915296462381664\n",
      "Accuracy for digit  4 :  0.9910313901345291\n",
      "Accuracy for digit  5 :  0.9920279023418037\n",
      "Accuracy for digit  6 :  0.9965122072745392\n",
      "Accuracy for digit  7 :  0.9940209267563528\n",
      "Accuracy for digit  8 :  0.9935226706527155\n",
      "Accuracy for digit  9 :  0.9885401096163428\n",
      "\n",
      "Digit with worst accuracy is 9 . It has an accuracy score of:  0.9885401096163428\n",
      "\n",
      "Accuracy Score on the entire Test Data:  0.9676133532635774\n",
      "\n",
      "Precision Score on the entire Test Data:  0.9645270179204417\n",
      "\n",
      "Recall Score on the entire Test Data:  0.9646985378835344\n"
     ]
    }
   ],
   "source": [
    "#displaying the prediction results for the KNN - 3rd\n",
    "display_prediction_results(Y_validation, y_pred)"
   ]
  },
  {
   "cell_type": "code",
   "execution_count": 484,
   "metadata": {},
   "outputs": [
    {
     "name": "stdout",
     "output_type": "stream",
     "text": [
      "Time taken for training is 0.8270 seconds\n"
     ]
    }
   ],
   "source": [
    "#Train the KNN model - 4th\n",
    "neigh = KNeighborsClassifier(n_neighbors=5, weights='uniform')\n",
    "t1 = train_model(neigh, X_train, Y_train)\n",
    "print(f\"Time taken for training is {t1:0.4f} seconds\")"
   ]
  },
  {
   "cell_type": "code",
   "execution_count": 485,
   "metadata": {},
   "outputs": [
    {
     "name": "stdout",
     "output_type": "stream",
     "text": [
      "Time taken for prediction is 11.3567 seconds\n"
     ]
    }
   ],
   "source": [
    "#Predicting labels on the test set for the KNN model - 4th\n",
    "y_pred, t2 = predict(neigh, X_validation)\n",
    "print(f\"Time taken for prediction is {t2:0.4f} seconds\")"
   ]
  },
  {
   "cell_type": "code",
   "execution_count": 486,
   "metadata": {},
   "outputs": [
    {
     "name": "stdout",
     "output_type": "stream",
     "text": [
      "Confusion Matrix: \n",
      " [[334   0   1   2   0   0   0   0   0   1]\n",
      " [  0 271   0   0   1   0   1   1   0   1]\n",
      " [  2   0 197   1   0   0   1   1   0   0]\n",
      " [  0   0   0 179   0   7   0   0   3   2]\n",
      " [  0   0   1   0 158   0   2   1   0   9]\n",
      " [  2   0   1   1   0 160   1   0   2   1]\n",
      " [  1   0   1   0   0   0 154   0   0   0]\n",
      " [  0   1   0   0   2   0   0 178   0   2]\n",
      " [  0   1   1   3   0   2   0   1 146   2]\n",
      " [  0   0   0   0   2   0   0   3   0 162]]\n",
      "\n",
      "Confusion matrix for each of the digits from 0 to 9 printed below in order\n",
      "[[[1664    5]\n",
      "  [   4  334]]\n",
      "\n",
      " [[1730    2]\n",
      "  [   4  271]]\n",
      "\n",
      " [[1800    5]\n",
      "  [   5  197]]\n",
      "\n",
      " [[1809    7]\n",
      "  [  12  179]]\n",
      "\n",
      " [[1831    5]\n",
      "  [  13  158]]\n",
      "\n",
      " [[1830    9]\n",
      "  [   8  160]]\n",
      "\n",
      " [[1846    5]\n",
      "  [   2  154]]\n",
      "\n",
      " [[1817    7]\n",
      "  [   5  178]]\n",
      "\n",
      " [[1846    5]\n",
      "  [  10  146]]\n",
      "\n",
      " [[1822   18]\n",
      "  [   5  162]]]\n",
      "\n",
      "Accuracy for each of the digits from 0 to 9 printed below \n",
      "Accuracy for digit  0 :  0.9955156950672646\n",
      "Accuracy for digit  1 :  0.9970104633781763\n",
      "Accuracy for digit  2 :  0.9950174389636273\n",
      "Accuracy for digit  3 :  0.9905331340308918\n",
      "Accuracy for digit  4 :  0.9910313901345291\n",
      "Accuracy for digit  5 :  0.9915296462381664\n",
      "Accuracy for digit  6 :  0.9965122072745392\n",
      "Accuracy for digit  7 :  0.9940209267563528\n",
      "Accuracy for digit  8 :  0.992526158445441\n",
      "Accuracy for digit  9 :  0.9885401096163428\n",
      "\n",
      "Digit with worst accuracy is 9 . It has an accuracy score of:  0.9885401096163428\n",
      "\n",
      "Accuracy Score on the entire Test Data:  0.9661185849526657\n",
      "\n",
      "Precision Score on the entire Test Data:  0.9629211600292058\n",
      "\n",
      "Recall Score on the entire Test Data:  0.9628212485062451\n"
     ]
    }
   ],
   "source": [
    "#displaying the prediction results for the KNN - 4th\n",
    "display_prediction_results(Y_validation, y_pred)"
   ]
  },
  {
   "cell_type": "code",
   "execution_count": null,
   "metadata": {},
   "outputs": [],
   "source": [
    "#displaying the prediction results for the KNN\n",
    "display_prediction_results(Y_validation, y_pred)"
   ]
  },
  {
   "cell_type": "code",
   "execution_count": 437,
   "metadata": {},
   "outputs": [
    {
     "name": "stdout",
     "output_type": "stream",
     "text": [
      "Time taken for training is 5.5181 seconds\n"
     ]
    }
   ],
   "source": [
    "#Train the Support Vector Machine model\n",
    "clm = SVC(kernel='linear', decision_function_shape='ovr')\n",
    "t1 = train_model(clm, X_train, Y_train)\n",
    "print(f\"Time taken for training is {t1:0.4f} seconds\")"
   ]
  },
  {
   "cell_type": "code",
   "execution_count": 438,
   "metadata": {},
   "outputs": [
    {
     "name": "stdout",
     "output_type": "stream",
     "text": [
      "Time taken for prediction is 1.6154 seconds\n"
     ]
    }
   ],
   "source": [
    "#Predicting labels on the test set for the SVM\n",
    "y_pred, t2 = predict(clm, X_validation)\n",
    "print(f\"Time taken for prediction is {t2:0.4f} seconds\")"
   ]
  },
  {
   "cell_type": "code",
   "execution_count": 434,
   "metadata": {},
   "outputs": [
    {
     "name": "stdout",
     "output_type": "stream",
     "text": [
      "Confusion Matrix: \n",
      " [[338   0   0   0   0   0   0   0   0   0]\n",
      " [  0 274   0   0   0   0   1   0   0   0]\n",
      " [  0   0 202   0   0   0   0   0   0   0]\n",
      " [  0   0   0 189   0   1   0   0   1   0]\n",
      " [  0   0   0   0 171   0   0   0   0   0]\n",
      " [  0   0   0   0   0 168   0   0   0   0]\n",
      " [  0   0   0   0   0   0 156   0   0   0]\n",
      " [  0   0   0   0   0   0   0 183   0   0]\n",
      " [  0   0   0   1   0   0   0   1 154   0]\n",
      " [  0   0   0   0   0   0   0   1   0 166]]\n",
      "\n",
      "Confusion matrix for each of the digits from 0 to 9 printed below in order\n",
      "[[[1669    0]\n",
      "  [   0  338]]\n",
      "\n",
      " [[1732    0]\n",
      "  [   1  274]]\n",
      "\n",
      " [[1805    0]\n",
      "  [   0  202]]\n",
      "\n",
      " [[1815    1]\n",
      "  [   2  189]]\n",
      "\n",
      " [[1836    0]\n",
      "  [   0  171]]\n",
      "\n",
      " [[1838    1]\n",
      "  [   0  168]]\n",
      "\n",
      " [[1850    1]\n",
      "  [   0  156]]\n",
      "\n",
      " [[1822    2]\n",
      "  [   0  183]]\n",
      "\n",
      " [[1850    1]\n",
      "  [   2  154]]\n",
      "\n",
      " [[1840    0]\n",
      "  [   1  166]]]\n",
      "\n",
      "Accuracy for each of the digits from 0 to 9 printed below \n",
      "Accuracy for digit  0 :  1.0\n",
      "Accuracy for digit  1 :  0.9995017438963627\n",
      "Accuracy for digit  2 :  1.0\n",
      "Accuracy for digit  3 :  0.9985052316890882\n",
      "Accuracy for digit  4 :  1.0\n",
      "Accuracy for digit  5 :  0.9995017438963627\n",
      "Accuracy for digit  6 :  0.9995017438963627\n",
      "Accuracy for digit  7 :  0.9990034877927254\n",
      "Accuracy for digit  8 :  0.9985052316890882\n",
      "Accuracy for digit  9 :  0.9995017438963627\n",
      "\n",
      "Digit with worst accuracy is 3 . It has an accuracy score of:  0.9985052316890882\n",
      "\n",
      "Accuracy Score on the entire Test Data:  0.9970104633781763\n",
      "\n",
      "Precision Score on the entire Test Data:  0.9965187831876321\n",
      "\n",
      "Recall Score on the entire Test Data:  0.9967083895402545\n"
     ]
    }
   ],
   "source": [
    "#displaying the prediction results for the SVM\n",
    "display_prediction_results(Y_validation, y_pred)"
   ]
  },
  {
   "cell_type": "code",
   "execution_count": 439,
   "metadata": {},
   "outputs": [
    {
     "name": "stdout",
     "output_type": "stream",
     "text": [
      "Time taken for training is 6.1814 seconds\n"
     ]
    }
   ],
   "source": [
    "#Train the Support Vector Machine model\n",
    "clm = SVC(kernel='poly', decision_function_shape='ovr')\n",
    "t1 = train_model(clm, X_train, Y_train)\n",
    "print(f\"Time taken for training is {t1:0.4f} seconds\")"
   ]
  },
  {
   "cell_type": "code",
   "execution_count": 440,
   "metadata": {},
   "outputs": [
    {
     "name": "stdout",
     "output_type": "stream",
     "text": [
      "Time taken for prediction is 1.8950 seconds\n"
     ]
    }
   ],
   "source": [
    "#Predicting labels on the test set for the SVM\n",
    "y_pred, t2 = predict(clm, X_validation)\n",
    "print(f\"Time taken for prediction is {t2:0.4f} seconds\")"
   ]
  },
  {
   "cell_type": "code",
   "execution_count": null,
   "metadata": {},
   "outputs": [],
   "source": [
    "#displaying the prediction results for the SVM\n",
    "display_prediction_results(Y_validation, y_pred)"
   ]
  }
 ],
 "metadata": {
  "kernelspec": {
   "display_name": "Python 3",
   "language": "python",
   "name": "python3"
  },
  "language_info": {
   "codemirror_mode": {
    "name": "ipython",
    "version": 3
   },
   "file_extension": ".py",
   "mimetype": "text/x-python",
   "name": "python",
   "nbconvert_exporter": "python",
   "pygments_lexer": "ipython3",
   "version": "3.8.5"
  }
 },
 "nbformat": 4,
 "nbformat_minor": 4
}
