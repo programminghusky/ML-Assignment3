{
 "cells": [
  {
   "cell_type": "code",
   "execution_count": 158,
   "metadata": {},
   "outputs": [],
   "source": [
    "#import libraries\n",
    "import sys\n",
    "from os.path import dirname, join as pjoin\n",
    "import random\n",
    "import numpy as np\n",
    "import matplotlib.pyplot as plt\n",
    "import scipy.io as sio\n",
    "import scipy.linalg as la\n",
    "np.set_printoptions(threshold=1000)\n",
    "from sklearn.model_selection import train_test_split\n",
    "from sklearn.tree import DecisionTreeClassifier\n",
    "from sklearn import tree\n",
    "from sklearn.metrics import accuracy_score\n",
    "from sklearn.metrics import confusion_matrix\n",
    "from sklearn.neighbors import KNeighborsClassifier\n",
    "from sklearn.svm import SVC"
   ]
  },
  {
   "cell_type": "code",
   "execution_count": 159,
   "metadata": {},
   "outputs": [
    {
     "data": {
      "text/plain": [
       "(9298, 256)"
      ]
     },
     "execution_count": 159,
     "metadata": {},
     "output_type": "execute_result"
    }
   ],
   "source": [
    "#load usps data into arr\n",
    "usps_data_dir= \"usps_all.mat\"\n",
    "usps_data = sio.loadmat(usps_data_dir)\n",
    "arr = usps_data['fea']\n",
    "labels = usps_data['gnd']\n",
    "arr.shape"
   ]
  },
  {
   "cell_type": "code",
   "execution_count": 160,
   "metadata": {},
   "outputs": [],
   "source": [
    "# Split-out dataset into training and validation\n",
    "X = arr[:,0:255]\n",
    "y = labels[:,0]\n",
    "X_train, X_validation, Y_train, Y_validation = train_test_split(X, y, test_size=2007, random_state=1)"
   ]
  },
  {
   "cell_type": "code",
   "execution_count": 161,
   "metadata": {},
   "outputs": [
    {
     "data": {
      "text/plain": [
       "DecisionTreeClassifier(max_depth=2, max_features=16)"
      ]
     },
     "execution_count": 161,
     "metadata": {},
     "output_type": "execute_result"
    }
   ],
   "source": [
    "#train the test data using decision tree\n",
    "clf = tree.DecisionTreeClassifier(criterion='gini', max_depth=2,max_features=16)\n",
    "clf.fit(X_train,Y_train)"
   ]
  },
  {
   "cell_type": "code",
   "execution_count": 162,
   "metadata": {},
   "outputs": [],
   "source": [
    "#Predicting labels on the test set for the decison tree\n",
    "y_pred =  clf.predict(X_validation)"
   ]
  },
  {
   "cell_type": "code",
   "execution_count": 170,
   "metadata": {},
   "outputs": [
    {
     "name": "stdout",
     "output_type": "stream",
     "text": [
      "Accuracy Score on the Test Data:  0.36073741903338313\n",
      "Confusion Matrix: \n",
      " [[336   0   0   0   0   0   1   0   0   1]\n",
      " [  4 222   0   0   0   0   3   0   0  46]\n",
      " [186   1   0   0   0   0  15   0   0   0]\n",
      " [174   0   0   0   0   0   0   0   0  17]\n",
      " [ 47   0   0   0   0   0   0   0   0 124]\n",
      " [147   0   0   0   0   0   8   0   0  13]\n",
      " [148   0   0   0   0   0   6   0   0   2]\n",
      " [ 11   1   0   0   0   0   0   0   0 171]\n",
      " [ 98   1   0   0   0   0   6   0   0  51]\n",
      " [  3   4   0   0   0   0   0   0   0 160]]\n"
     ]
    }
   ],
   "source": [
    "#Evaluate Predictions using Accuracy Score and Confusion Matrix\n",
    "print('Accuracy Score on the Test Data: ',accuracy_score(Y_validation, y_pred))\n",
    "print('Confusion Matrix: \\n', confusion_matrix(Y_validation, y_pred))"
   ]
  },
  {
   "cell_type": "code",
   "execution_count": 164,
   "metadata": {},
   "outputs": [
    {
     "name": "stdout",
     "output_type": "stream",
     "text": [
      "|--- feature_125 <= -1.00\n",
      "|   |--- feature_188 <= -1.00\n",
      "|   |   |--- class: 2\n",
      "|   |--- feature_188 >  -1.00\n",
      "|   |   |--- class: 7\n",
      "|--- feature_125 >  -1.00\n",
      "|   |--- feature_194 <= -1.00\n",
      "|   |   |--- class: 10\n",
      "|   |--- feature_194 >  -1.00\n",
      "|   |   |--- class: 1\n",
      "\n"
     ]
    }
   ],
   "source": [
    "#Text representation of the tree to show the entire tree structure\n",
    "text_representation = tree.export_text(clf)\n",
    "print(text_representation)"
   ]
  },
  {
   "cell_type": "code",
   "execution_count": 172,
   "metadata": {},
   "outputs": [
    {
     "data": {
      "text/plain": [
       "KNeighborsClassifier(n_neighbors=3)"
      ]
     },
     "execution_count": 172,
     "metadata": {},
     "output_type": "execute_result"
    }
   ],
   "source": [
    "#Train the test data using K-nearest neighbor\n",
    "neigh = KNeighborsClassifier(n_neighbors=3)\n",
    "neigh.fit(X_train,Y_train)"
   ]
  },
  {
   "cell_type": "code",
   "execution_count": 173,
   "metadata": {},
   "outputs": [],
   "source": [
    "#Predicting labels on the test set.\n",
    "y_pred =  neigh.predict(X_validation)"
   ]
  },
  {
   "cell_type": "code",
   "execution_count": 175,
   "metadata": {},
   "outputs": [
    {
     "name": "stdout",
     "output_type": "stream",
     "text": [
      "Accuracy Score on the Test Data:  0.9745889387144993\n",
      "Confusion Matrix: \n",
      " [[335   0   0   2   0   0   0   0   0   1]\n",
      " [  0 273   0   0   1   0   1   0   0   0]\n",
      " [  2   0 198   0   0   0   1   1   0   0]\n",
      " [  0   0   1 183   0   5   0   0   1   1]\n",
      " [  1   0   1   0 160   0   1   1   0   7]\n",
      " [  2   0   1   0   0 162   0   0   2   1]\n",
      " [  1   0   1   0   0   0 154   0   0   0]\n",
      " [  0   2   0   0   1   0   0 177   1   2]\n",
      " [  0   1   1   2   0   2   0   1 148   1]\n",
      " [  0   0   0   0   1   0   0   0   0 166]]\n"
     ]
    }
   ],
   "source": [
    "#Evaluate Predictions using Accuracy Score and Confusion Matrix\n",
    "print('Accuracy Score on the Test Data: ',accuracy_score(Y_validation, y_pred))\n",
    "print('Confusion Matrix: \\n', confusion_matrix(Y_validation, y_pred))"
   ]
  },
  {
   "cell_type": "code",
   "execution_count": 153,
   "metadata": {},
   "outputs": [
    {
     "data": {
      "text/plain": [
       "SVC()"
      ]
     },
     "execution_count": 153,
     "metadata": {},
     "output_type": "execute_result"
    }
   ],
   "source": [
    "#Train the test data using Support Vector Machine\n",
    "clm = SVC()\n",
    "clm.fit(X, y)"
   ]
  },
  {
   "cell_type": "code",
   "execution_count": 154,
   "metadata": {},
   "outputs": [],
   "source": [
    "#Predicting labels on the test set.\n",
    "y_pred =  clm.predict(X_validation)"
   ]
  },
  {
   "cell_type": "code",
   "execution_count": 155,
   "metadata": {},
   "outputs": [
    {
     "name": "stdout",
     "output_type": "stream",
     "text": [
      "Accuracy Score on train data:  0.9884789466465506\n",
      "Accuracy Score on test data:  0.987045341305431\n"
     ]
    }
   ],
   "source": [
    "\n",
    "print('Accuracy Score on train data: ', accuracy_score(y_true=Y_train, y_pred=clm.predict(X_train)))\n",
    "print('Accuracy Score on test data: ', accuracy_score(y_true=Y_validation, y_pred=y_pred))"
   ]
  }
 ],
 "metadata": {
  "kernelspec": {
   "display_name": "Python 3",
   "language": "python",
   "name": "python3"
  },
  "language_info": {
   "codemirror_mode": {
    "name": "ipython",
    "version": 3
   },
   "file_extension": ".py",
   "mimetype": "text/x-python",
   "name": "python",
   "nbconvert_exporter": "python",
   "pygments_lexer": "ipython3",
   "version": "3.8.5"
  }
 },
 "nbformat": 4,
 "nbformat_minor": 4
}
