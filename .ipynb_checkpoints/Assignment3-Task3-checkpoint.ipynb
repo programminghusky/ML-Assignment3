{
 "cells": [
  {
   "cell_type": "code",
   "execution_count": 1,
   "metadata": {},
   "outputs": [],
   "source": [
    "#import libraries\n",
    "import sys\n",
    "from os.path import dirname, join as pjoin\n",
    "import random\n",
    "import numpy as np\n",
    "import matplotlib.pyplot as plt\n",
    "import scipy.io as sio\n",
    "import scipy.linalg as la\n",
    "from statistics import mean \n",
    "from sklearn.linear_model import LogisticRegression\n",
    "from sklearn.model_selection import train_test_split\n",
    "np.set_printoptions(threshold=1000)"
   ]
  },
  {
   "cell_type": "code",
   "execution_count": 2,
   "metadata": {},
   "outputs": [
    {
     "name": "stdout",
     "output_type": "stream",
     "text": [
      "(270, 13)\n"
     ]
    }
   ],
   "source": [
    "#load heart data into arr\n",
    "heart_data_dir= \"heart.mat\"\n",
    "heart_data = sio.loadmat(heart_data_dir)\n",
    "arr = heart_data['dat']\n",
    "print(arr.shape)"
   ]
  },
  {
   "cell_type": "code",
   "execution_count": 3,
   "metadata": {},
   "outputs": [
    {
     "name": "stdout",
     "output_type": "stream",
     "text": [
      "(270, 1)\n"
     ]
    }
   ],
   "source": [
    "#load the labels describing presence or absence of disease\n",
    "labels = heart_data['label']\n",
    "print(labels.shape)"
   ]
  },
  {
   "cell_type": "code",
   "execution_count": 4,
   "metadata": {},
   "outputs": [],
   "source": [
    "# instantiate the model (using the default parameters)\n",
    "logreg = LogisticRegression(solver=\"liblinear\", C=0.303)"
   ]
  },
  {
   "cell_type": "code",
   "execution_count": 5,
   "metadata": {},
   "outputs": [],
   "source": [
    "from sklearn import preprocessing\n",
    "import numpy as np\n",
    "#scaler = preprocessing.StandardScaler().fit(arr)\n",
    "#arr = scaler.transform(arr)"
   ]
  },
  {
   "cell_type": "code",
   "execution_count": 6,
   "metadata": {},
   "outputs": [
    {
     "name": "stdout",
     "output_type": "stream",
     "text": [
      "[0.857, 0.8271428571428572]\n",
      "[0.7395, 0.7]\n"
     ]
    }
   ],
   "source": [
    "def featureSubsetScore(arr, labels):    \n",
    "    trainScores = [0]*10\n",
    "    testScores = [0]*10\n",
    "    nTrain = 200\n",
    "    nTest = 70\n",
    "    \n",
    "    for i in range(0,10):\n",
    "        random.seed(i+1)\n",
    "        \n",
    "        #initialize randomMatrix from original matrix\n",
    "        randomArr = arr.copy()\n",
    "        randomLabels = labels.copy();\n",
    "\n",
    "        #randomize by swapping rows in randomMatrix\n",
    "        randomIndices = list(range(0,270))\n",
    "        random.shuffle(randomIndices)\n",
    "        for j in range(0,270):            \n",
    "            temp = randomArr[j]\n",
    "            randomArr[j] = randomArr[randomIndices[j]]\n",
    "            randomArr[randomIndices[j]] = temp\n",
    "            \n",
    "            temp = randomLabels[j]\n",
    "            randomLabels[j] = randomLabels[randomIndices[j]]\n",
    "            randomLabels[randomIndices[j]] = temp\n",
    "            \n",
    "        trainingArr = randomArr[range(0,nTrain),:]\n",
    "        trainingLabels = randomLabels[range(0,nTrain)]       \n",
    "        logreg.fit(trainingArr,trainingLabels.ravel())\n",
    "       \n",
    "        testingArr = randomArr[range(nTrain, nTrain+nTest),:]    \n",
    "        testingLabels = randomLabels[range(nTrain, nTrain+nTest)].ravel()\n",
    "        y_pred_train=logreg.predict(trainingArr)\n",
    "        y_pred_test=logreg.predict(testingArr)\n",
    "        \n",
    "        nTrainCorrect = 0        \n",
    "        for j in range(0,nTrain):\n",
    "            if y_pred_train[j] == trainingLabels[j]:\n",
    "                nTrainCorrect= nTrainCorrect + 1            \n",
    "        trainScores[i] = nTrainCorrect/nTrain\n",
    "        \n",
    "        nTestCorrect = 0        \n",
    "        for j in range(0,nTest):\n",
    "            if y_pred_test[j] == testingLabels[j]:\n",
    "                nTestCorrect = nTestCorrect +1            \n",
    "        testScores[i] = nTestCorrect/nTest\n",
    "    \n",
    "    trainScoresMean = mean(trainScores)\n",
    "    testScoresMean = mean(testScores)\n",
    "    return [trainScoresMean, testScoresMean]\n",
    "        \n",
    "\n",
    "print(featureSubsetScore(arr, labels))\n",
    "print(featureSubsetScore(arr[:,[0,2,4]], labels))\n",
    "        "
   ]
  },
  {
   "cell_type": "code",
   "execution_count": 7,
   "metadata": {},
   "outputs": [
    {
     "name": "stdout",
     "output_type": "stream",
     "text": [
      "[0, 1, 2, 3, 4, 5, 6, 7, 8, 9, 10, 11, 12, 13, 14, 15, 16, 17, 18, 19, 20, 21, 22, 23, 24, 25, 26, 27, 28, 29, 30, 31, 32, 33, 34, 35, 36, 37, 38, 39, 40, 41, 42, 43, 44, 45, 46, 47, 48, 49, 50, 51, 52, 53, 54, 55, 56, 57, 58, 59, 60, 61, 62, 63, 64, 65, 66, 67, 68, 69, 70, 71, 72, 73, 74, 75, 76, 77, 78, 79, 80, 81, 82, 83, 84, 85, 86, 87, 88, 89, 90, 91, 92, 93, 94, 95, 96, 97, 98, 99, 100, 101, 102, 103, 104, 105, 106, 107, 108, 109, 110, 111, 112, 113, 114, 115, 116, 117, 118, 119, 120, 121, 122, 123, 124, 125, 126, 127, 128, 129, 130, 131, 132, 133, 134, 135, 136, 137, 138, 139, 140, 141, 142, 143, 144, 145, 146, 147, 148, 149, 150, 151, 152, 153, 154, 155, 156, 157, 158, 159, 160, 161, 162, 163, 164, 165, 166, 167, 168, 169, 170, 171, 172, 173, 174, 175, 176, 177, 178, 179, 180, 181, 182, 183, 184, 185, 186, 187, 188, 189, 190, 191, 192, 193, 194, 195, 196, 197, 198, 199, 200, 201, 202, 203, 204, 205, 206, 207, 208, 209, 210, 211, 212, 213, 214, 215, 216, 217, 218, 219, 220, 221, 222, 223, 224, 225, 226, 227, 228, 229, 230, 231, 232, 233, 234, 235, 236, 237, 238, 239, 240, 241, 242, 243, 244, 245, 246, 247, 248, 249, 250, 251, 252, 253, 254, 255, 256, 257, 258, 259, 260, 261, 262, 263, 264, 265, 266, 267, 268, 269]\n"
     ]
    }
   ],
   "source": [
    "randomIndices = list(range(0,270))\n",
    "print(randomIndices)"
   ]
  },
  {
   "cell_type": "code",
   "execution_count": null,
   "metadata": {},
   "outputs": [],
   "source": []
  },
  {
   "cell_type": "code",
   "execution_count": null,
   "metadata": {},
   "outputs": [],
   "source": []
  }
 ],
 "metadata": {
  "kernelspec": {
   "display_name": "Python 3",
   "language": "python",
   "name": "python3"
  },
  "language_info": {
   "codemirror_mode": {
    "name": "ipython",
    "version": 3
   },
   "file_extension": ".py",
   "mimetype": "text/x-python",
   "name": "python",
   "nbconvert_exporter": "python",
   "pygments_lexer": "ipython3",
   "version": "3.8.5"
  }
 },
 "nbformat": 4,
 "nbformat_minor": 4
}
